{
 "cells": [
  {
   "cell_type": "markdown",
   "metadata": {},
   "source": [
    "# Generate GeoJSON Data\n",
    "\n",
    "The [ERS dataset](https://www.ers.usda.gov/webdocs/DataFiles/80591/DataDownload2015.xlsx?v=2116) is a product of the [USDA Economic Reserach Service](https://www.ers.usda.gov/data-products/food-access-research-atlas/download-the-data/). To run this notebook, download the ERS data and rename the XLSX file to `ers_dataset.xlsx`."
   ]
  },
  {
   "cell_type": "code",
   "execution_count": null,
   "metadata": {},
   "outputs": [],
   "source": [
    "import sys\n",
    "sys.path.append('../')\n",
    "\n",
    "import json\n",
    "import pandas as pd\n",
    "import App.Heatmap as heatmap\n",
    "import App.CensusTracts as tracts"
   ]
  },
  {
   "cell_type": "code",
   "execution_count": null,
   "metadata": {},
   "outputs": [],
   "source": [
    "#####\n",
    "# USDA ERS Data\n",
    "#####\n",
    "\n",
    "ers_df = pd.read_excel(\"../data/ers_dataset.xlsx\", sheet_name=\"Food Access Research Atlas\")\n",
    "ers_df['TractID'] = ers_df['CensusTract'].apply(lambda x : '0' + str(x))"
   ]
  },
  {
   "cell_type": "code",
   "execution_count": null,
   "metadata": {},
   "outputs": [],
   "source": [
    "#####\n",
    "# Filter to low income, low access, in Los Angeles\n",
    "#####\n",
    "la_df = ers_df.loc[(ers_df['State'] == 'California') &\n",
    "                   (ers_df['County'] == 'Los Angeles') &\n",
    "                   (ers_df['LILATracts_1And10'] == 1)] \\\n",
    "            .rename(columns={'POP2010': 'Population'}) \\\n",
    "            .copy()\n",
    "\n",
    "\n",
    "# generate heat map\n",
    "la_df['Color'] = la_df['Population'].apply(lambda x: heatmap.LinearHeatmap(x, max))"
   ]
  },
  {
   "cell_type": "code",
   "execution_count": null,
   "metadata": {},
   "outputs": [],
   "source": [
    "#####\n",
    "# Generate output\n",
    "#####\n",
    "\n",
    "# filter to selected tracts\n",
    "outJson = tracts.filterGeoJSON(la_df, '../data/tracts.geojson')\n",
    "\n",
    "# save to json file\n",
    "with open('data/out.json', 'w') as outfile:\n",
    "    json.dump(outJson, outfile)"
   ]
  },
  {
   "cell_type": "code",
   "execution_count": null,
   "metadata": {},
   "outputs": [],
   "source": []
  }
 ],
 "metadata": {
  "kernelspec": {
   "display_name": "Python 3",
   "language": "python",
   "name": "python3"
  },
  "language_info": {
   "codemirror_mode": {
    "name": "ipython",
    "version": 3
   },
   "file_extension": ".py",
   "mimetype": "text/x-python",
   "name": "python",
   "nbconvert_exporter": "python",
   "pygments_lexer": "ipython3",
   "version": "3.7.4"
  }
 },
 "nbformat": 4,
 "nbformat_minor": 4
}
