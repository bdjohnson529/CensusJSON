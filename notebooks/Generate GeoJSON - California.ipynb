{
 "cells": [
  {
   "cell_type": "markdown",
   "metadata": {},
   "source": [
    "# Generate GeoJSON Data\n",
    "This notebook selects California zip codes, specified on the [CA.gov](https://data.ca.gov/dataset/county-and-zip-code-references) website, and generates a GeoJSON file with zip code perimiters. Some zip codes are points and are not contained in the source GeoJSON file, which comes from [Census.gov](https://www.census.gov/geographies/mapping-files/time-series/geo/kml-cartographic-boundary-files.html)."
   ]
  },
  {
   "cell_type": "code",
   "execution_count": null,
   "metadata": {},
   "outputs": [],
   "source": [
    "import json\n",
    "import pandas as pd"
   ]
  },
  {
   "cell_type": "code",
   "execution_count": null,
   "metadata": {},
   "outputs": [],
   "source": [
    "# load zcta boundaries\n",
    "with open('C:\\\\Users\\\\benjohn\\\\Documents\\\\Github\\\\CensusJSON\\data\\\\cb_2018_us_zcta510_500k.geojson') as f:\n",
    "    data = json.load(f)\n",
    "\n",
    "# load list of california zips\n",
    "ca_zips_df = pd.read_csv(\"../data/zip-code-list.csv\")\n",
    "ca_zips = ca_zips_df['zip_code'].tolist()"
   ]
  },
  {
   "cell_type": "code",
   "execution_count": null,
   "metadata": {
    "scrolled": true
   },
   "outputs": [],
   "source": [
    "# transform kml to a dictionary\n",
    "lkupKML = {}\n",
    "\n",
    "for i in range(len(data['features'])):\n",
    "    item = data['features'][i]\n",
    "    tbl = item['properties']['description']\n",
    "    df = pd.read_html(tbl)[0]\n",
    "    zipCode = df['Attributes.1'][0]\n",
    "\n",
    "    lkupKML[zipCode] = i\n",
    "\n",
    "\n",
    "# select polygons\n",
    "outputFeatures = []\n",
    "missingZipCodes = []\n",
    "\n",
    "for x in ca_zips:\n",
    "    try:\n",
    "        # info to be displayed\n",
    "        ix = lkupKML[str(x)]\n",
    "        feature = data['features'][ix]\n",
    "\n",
    "        d = {}\n",
    "        d['type'] = feature['type']\n",
    "        d['properties'] = { \"color\": \"#fff\",}\n",
    "        d['geometry'] = feature['geometry']\n",
    "\n",
    "        outputFeatures.append(d)\n",
    "    except:\n",
    "        print(f\"Zip code not found : {x}\")\n",
    "        missingZipCodes.append(x)\n",
    "        \n",
    "\n",
    "newData = {'type': 'FeatureCollection',\n",
    "            'features': outputFeatures}"
   ]
  },
  {
   "cell_type": "code",
   "execution_count": null,
   "metadata": {},
   "outputs": [],
   "source": [
    "# save to json file\n",
    "with open('../data/ca-zips.json', 'w') as outfile:\n",
    "    json.dump(newData, outfile)"
   ]
  },
  {
   "cell_type": "code",
   "execution_count": null,
   "metadata": {},
   "outputs": [],
   "source": []
  }
 ],
 "metadata": {
  "kernelspec": {
   "display_name": "Python 3",
   "language": "python",
   "name": "python3"
  },
  "language_info": {
   "codemirror_mode": {
    "name": "ipython",
    "version": 3
   },
   "file_extension": ".py",
   "mimetype": "text/x-python",
   "name": "python",
   "nbconvert_exporter": "python",
   "pygments_lexer": "ipython3",
   "version": "3.7.4"
  }
 },
 "nbformat": 4,
 "nbformat_minor": 2
}
